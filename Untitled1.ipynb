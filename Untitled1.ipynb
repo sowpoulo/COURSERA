{
  "nbformat": 4,
  "nbformat_minor": 0,
  "metadata": {
    "colab": {
      "provenance": [],
      "authorship_tag": "ABX9TyMjAUvb4IGYvwoQ3BxvZmyH",
      "include_colab_link": true
    },
    "kernelspec": {
      "name": "python3",
      "display_name": "Python 3"
    },
    "language_info": {
      "name": "python"
    }
  },
  "cells": [
    {
      "cell_type": "markdown",
      "metadata": {
        "id": "view-in-github",
        "colab_type": "text"
      },
      "source": [
        "<a href=\"https://colab.research.google.com/github/sowpoulo/COURSERA/blob/main/Untitled1.ipynb\" target=\"_parent\"><img src=\"https://colab.research.google.com/assets/colab-badge.svg\" alt=\"Open In Colab\"/></a>"
      ]
    },
    {
      "cell_type": "code",
      "execution_count": 1,
      "metadata": {
        "colab": {
          "base_uri": "https://localhost:8080/"
        },
        "id": "5DTIQWuBpn9K",
        "outputId": "df95414b-efca-401d-b7d5-3fa53b58f3c8"
      },
      "outputs": [
        {
          "output_type": "stream",
          "name": "stdout",
          "text": [
            "Fichier CSV créé avec succès !\n"
          ]
        }
      ],
      "source": [
        "import pandas as pd\n",
        "\n",
        "# Créer les données sous forme de dictionnaire\n",
        "data = {\n",
        "    'Date': ['2022-01-01', '2022-01-02', '2022-01-01', '2022-01-02', '2022-01-01', '2022-01-02', '2022-01-01', '2022-01-02'],\n",
        "    'City': ['Paris', 'Paris', 'New York', 'New York', 'Dakar', 'Dakar', 'Mumbai', 'Mumbai'],\n",
        "    'AverageTemperature': [5.3, 6.1, -1.2, -0.5, 25.1, 26.3, 30.1, 31.4],\n",
        "    'MaxTemperature': [9.0, 10.3, 1.3, 2.5, 28.4, 29.2, 33.4, 34.5],\n",
        "    'MinTemperature': [1.5, 2.4, -3.7, -2.0, 21.6, 23.0, 26.5, 28.1],\n",
        "    'Precipitation': [0.2, 0.0, 0.0, 0.1, 0.0, 0.0, 0.1, 0.3]\n",
        "}\n",
        "\n",
        "# Convertir le dictionnaire en DataFrame\n",
        "df = pd.DataFrame(data)\n",
        "\n",
        "# Sauvegarder le DataFrame en tant que fichier CSV\n",
        "df.to_csv('temperature_data.csv', index=False)\n",
        "\n",
        "print(\"Fichier CSV créé avec succès !\")\n"
      ]
    },
    {
      "cell_type": "code",
      "source": [
        "# Lire le fichier CSV dans Google Colab\n",
        "data = pd.read_csv('temperature_data.csv')\n",
        "\n",
        "# Afficher les premières lignes du fichier CSV\n",
        "print(data.head())\n",
        "\n",
        "#  moyenne des températures par ville\n",
        "average_temp_per_city = data.groupby('City')['AverageTemperature'].mean()\n",
        "print(average_temp_per_city)\n"
      ],
      "metadata": {
        "colab": {
          "base_uri": "https://localhost:8080/"
        },
        "id": "6X7v8_eZpwB8",
        "outputId": "65b74d59-ca93-4348-ac8a-7ea8c60543ef"
      },
      "execution_count": 2,
      "outputs": [
        {
          "output_type": "stream",
          "name": "stdout",
          "text": [
            "         Date      City  AverageTemperature  MaxTemperature  MinTemperature  \\\n",
            "0  2022-01-01     Paris                 5.3             9.0             1.5   \n",
            "1  2022-01-02     Paris                 6.1            10.3             2.4   \n",
            "2  2022-01-01  New York                -1.2             1.3            -3.7   \n",
            "3  2022-01-02  New York                -0.5             2.5            -2.0   \n",
            "4  2022-01-01     Dakar                25.1            28.4            21.6   \n",
            "\n",
            "   Precipitation  \n",
            "0            0.2  \n",
            "1            0.0  \n",
            "2            0.0  \n",
            "3            0.1  \n",
            "4            0.0  \n",
            "City\n",
            "Dakar       25.70\n",
            "Mumbai      30.75\n",
            "New York    -0.85\n",
            "Paris        5.70\n",
            "Name: AverageTemperature, dtype: float64\n"
          ]
        }
      ]
    },
    {
      "cell_type": "code",
      "source": [
        "from google.colab import files\n",
        "\n",
        "# Télécharger le fichier CSV sur votre ordinateur\n",
        "files.download('temperature_data.csv')\n"
      ],
      "metadata": {
        "colab": {
          "base_uri": "https://localhost:8080/",
          "height": 17
        },
        "id": "enQtlJmmqFgz",
        "outputId": "d026b42c-a751-4531-ffc2-c624bf4b1347"
      },
      "execution_count": 3,
      "outputs": [
        {
          "output_type": "display_data",
          "data": {
            "text/plain": [
              "<IPython.core.display.Javascript object>"
            ],
            "application/javascript": [
              "\n",
              "    async function download(id, filename, size) {\n",
              "      if (!google.colab.kernel.accessAllowed) {\n",
              "        return;\n",
              "      }\n",
              "      const div = document.createElement('div');\n",
              "      const label = document.createElement('label');\n",
              "      label.textContent = `Downloading \"${filename}\": `;\n",
              "      div.appendChild(label);\n",
              "      const progress = document.createElement('progress');\n",
              "      progress.max = size;\n",
              "      div.appendChild(progress);\n",
              "      document.body.appendChild(div);\n",
              "\n",
              "      const buffers = [];\n",
              "      let downloaded = 0;\n",
              "\n",
              "      const channel = await google.colab.kernel.comms.open(id);\n",
              "      // Send a message to notify the kernel that we're ready.\n",
              "      channel.send({})\n",
              "\n",
              "      for await (const message of channel.messages) {\n",
              "        // Send a message to notify the kernel that we're ready.\n",
              "        channel.send({})\n",
              "        if (message.buffers) {\n",
              "          for (const buffer of message.buffers) {\n",
              "            buffers.push(buffer);\n",
              "            downloaded += buffer.byteLength;\n",
              "            progress.value = downloaded;\n",
              "          }\n",
              "        }\n",
              "      }\n",
              "      const blob = new Blob(buffers, {type: 'application/binary'});\n",
              "      const a = document.createElement('a');\n",
              "      a.href = window.URL.createObjectURL(blob);\n",
              "      a.download = filename;\n",
              "      div.appendChild(a);\n",
              "      a.click();\n",
              "      div.remove();\n",
              "    }\n",
              "  "
            ]
          },
          "metadata": {}
        },
        {
          "output_type": "display_data",
          "data": {
            "text/plain": [
              "<IPython.core.display.Javascript object>"
            ],
            "application/javascript": [
              "download(\"download_ad2386eb-cba6-444d-b76a-07cd82c977ef\", \"temperature_data.csv\", 362)"
            ]
          },
          "metadata": {}
        }
      ]
    },
    {
      "cell_type": "code",
      "source": [],
      "metadata": {
        "id": "9wBeDZ5BqbCS"
      },
      "execution_count": null,
      "outputs": []
    }
  ]
}