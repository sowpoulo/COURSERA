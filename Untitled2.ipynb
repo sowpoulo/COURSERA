{
  "nbformat": 4,
  "nbformat_minor": 0,
  "metadata": {
    "colab": {
      "provenance": [],
      "authorship_tag": "ABX9TyNMtiTNVbj9AQPaxG7kduB+",
      "include_colab_link": true
    },
    "kernelspec": {
      "name": "python3",
      "display_name": "Python 3"
    },
    "language_info": {
      "name": "python"
    }
  },
  "cells": [
    {
      "cell_type": "markdown",
      "metadata": {
        "id": "view-in-github",
        "colab_type": "text"
      },
      "source": [
        "<a href=\"https://colab.research.google.com/github/sowpoulo/COURSERA/blob/main/Untitled2.ipynb\" target=\"_parent\"><img src=\"https://colab.research.google.com/assets/colab-badge.svg\" alt=\"Open In Colab\"/></a>"
      ]
    },
    {
      "cell_type": "code",
      "execution_count": 3,
      "metadata": {
        "colab": {
          "base_uri": "https://localhost:8080/"
        },
        "id": "m27QvHEurXio",
        "outputId": "01c6f7da-8848-486d-a5d6-116313606c47"
      },
      "outputs": [
        {
          "output_type": "stream",
          "name": "stdout",
          "text": [
            "Fichier CSV de réservations créé avec succès dans Google Colab !\n"
          ]
        }
      ],
      "source": [
        "import pandas as pd\n",
        "\n",
        "# Créer les données sous forme de dictionnaire\n",
        "data_reservations = {\n",
        "    'ReservationID': [101, 102, 103, 104, 105, 106, 107, 108, 109, 110],\n",
        "    'CheckInDate': ['2023-07-01', '2023-07-02', '2023-07-05', '2023-07-06', '2023-07-08', '2023-07-09', '2023-07-10', '2023-07-12', '2023-07-15', '2023-07-18'],\n",
        "    'CheckOutDate': ['2023-07-05', '2023-07-04', '2023-07-08', '2023-07-10', '2023-07-09', '2023-07-11', '2023-07-12', '2023-07-15', '2023-07-17', '2023-07-20'],\n",
        "    'RoomType': ['Deluxe', 'Standard', 'Suite', 'Deluxe', 'Standard', 'Suite', 'Standard', 'Deluxe', 'Suite', 'Standard'],\n",
        "    'GuestNationality': ['France', 'USA', 'Morocco', 'Senegal', 'UK', 'Germany', 'Spain', 'France', 'Italy', 'Canada'],\n",
        "    'TotalNights': [4, 2, 3, 4, 1, 2, 2, 3, 2, 2],\n",
        "    'TotalPrice': [800, 400, 1500, 850, 200, 1600, 380, 780, 1700, 420]\n",
        "}\n",
        "\n",
        "# Convertir le dictionnaire en DataFrame\n",
        "df_reservations = pd.DataFrame(data_reservations)\n",
        "\n",
        "# Sauvegarder le DataFrame en tant que fichier CSV\n",
        "df_reservations.to_csv('hotel_reservations.csv', index=False)\n",
        "\n",
        "print(\"Fichier CSV de réservations créé avec succès dans Google Colab !\")\n"
      ]
    },
    {
      "cell_type": "code",
      "source": [
        "# Lire le fichier CSV dans Google Colab\n",
        "data = pd.read_csv('hotel_reservations.csv')\n",
        "\n",
        "# Afficher les premières lignes du fichier CSV\n",
        "print(data.head())\n"
      ],
      "metadata": {
        "colab": {
          "base_uri": "https://localhost:8080/"
        },
        "id": "DcIV9omPrfQN",
        "outputId": "44472147-8058-4e8f-f6e0-8117a857a1f8"
      },
      "execution_count": 4,
      "outputs": [
        {
          "output_type": "stream",
          "name": "stdout",
          "text": [
            "   ReservationID CheckInDate CheckOutDate  RoomType GuestNationality  \\\n",
            "0            101  2023-07-01   2023-07-05    Deluxe           France   \n",
            "1            102  2023-07-02   2023-07-04  Standard              USA   \n",
            "2            103  2023-07-05   2023-07-08     Suite          Morocco   \n",
            "3            104  2023-07-06   2023-07-10    Deluxe          Senegal   \n",
            "4            105  2023-07-08   2023-07-09  Standard               UK   \n",
            "\n",
            "   TotalNights  TotalPrice  \n",
            "0            4         800  \n",
            "1            2         400  \n",
            "2            3        1500  \n",
            "3            4         850  \n",
            "4            1         200  \n"
          ]
        }
      ]
    },
    {
      "cell_type": "code",
      "source": [
        "# Calcul de la moyenne des prix totaux payés par séjour\n",
        "mean_total_price = data['TotalPrice'].mean()\n",
        "print(f\"Prix moyen total par réservation : {mean_total_price:.2f} EUR\")\n",
        "\n",
        "# Calcul de la durée moyenne des séjours\n",
        "mean_total_nights = data['TotalNights'].mean()\n",
        "print(f\"Durée moyenne des séjours : {mean_total_nights:.2f} nuits\")\n"
      ],
      "metadata": {
        "colab": {
          "base_uri": "https://localhost:8080/"
        },
        "id": "GRaq7wdb3My2",
        "outputId": "edfe013a-799f-4633-9416-87ad5834df05"
      },
      "execution_count": 5,
      "outputs": [
        {
          "output_type": "stream",
          "name": "stdout",
          "text": [
            "Prix moyen total par réservation : 863.00 EUR\n",
            "Durée moyenne des séjours : 2.50 nuits\n"
          ]
        }
      ]
    },
    {
      "cell_type": "code",
      "source": [
        "data = pd.read_csv('hotel_reservations.csv')\n",
        "# Afficher les noms des colonnes\n",
        "print(\"Colonnes disponibles :\")\n",
        "print(data.columns)"
      ],
      "metadata": {
        "colab": {
          "base_uri": "https://localhost:8080/"
        },
        "id": "Iy4tP6WN5g15",
        "outputId": "e189171f-be1f-4caa-bbec-52c393450cdf"
      },
      "execution_count": 7,
      "outputs": [
        {
          "output_type": "stream",
          "name": "stdout",
          "text": [
            "Colonnes disponibles :\n",
            "Index(['ReservationID', 'CheckInDate', 'CheckOutDate', 'RoomType',\n",
            "       'GuestNationality', 'TotalNights', 'TotalPrice'],\n",
            "      dtype='object')\n"
          ]
        }
      ]
    },
    {
      "cell_type": "code",
      "source": [
        "# Nombre de réservations par type de chambre\n",
        "reservations_by_room_type = data['RoomType'].value_counts()\n",
        "print(\"\\nRéservations par type de chambre :\")\n",
        "print(reservations_by_room_type)\n"
      ],
      "metadata": {
        "colab": {
          "base_uri": "https://localhost:8080/"
        },
        "id": "hS3P_bny6CN2",
        "outputId": "125af273-1ea3-4d24-bacb-18bc972d4a97"
      },
      "execution_count": 8,
      "outputs": [
        {
          "output_type": "stream",
          "name": "stdout",
          "text": [
            "\n",
            "Réservations par type de chambre :\n",
            "RoomType\n",
            "Standard    4\n",
            "Deluxe      3\n",
            "Suite       3\n",
            "Name: count, dtype: int64\n"
          ]
        }
      ]
    },
    {
      "cell_type": "code",
      "source": [
        "# Revenus par type de chambre\n",
        "revenue_by_room_type = data.groupby('RoomType')['TotalPrice'].sum()\n",
        "print(\"\\nRevenus par type de chambre :\")\n",
        "print(revenue_by_room_type)"
      ],
      "metadata": {
        "colab": {
          "base_uri": "https://localhost:8080/"
        },
        "id": "qYJGfnzY6oe2",
        "outputId": "da3ec291-17e6-495c-9864-584d5fa32eb7"
      },
      "execution_count": 9,
      "outputs": [
        {
          "output_type": "stream",
          "name": "stdout",
          "text": [
            "\n",
            "Revenus par type de chambre :\n",
            "RoomType\n",
            "Deluxe      2430\n",
            "Standard    1400\n",
            "Suite       4800\n",
            "Name: TotalPrice, dtype: int64\n"
          ]
        }
      ]
    },
    {
      "cell_type": "code",
      "source": [
        "# Nombre de réservations par nationalité\n",
        "reservations_by_nationality = data['GuestNationality'].value_counts()\n",
        "print(\"\\nRéservations par nationalité :\")\n",
        "print(reservations_by_nationality)"
      ],
      "metadata": {
        "colab": {
          "base_uri": "https://localhost:8080/"
        },
        "id": "pWkRYsDaLcpR",
        "outputId": "e3406c55-248c-44ed-a60c-e355f6ce8969"
      },
      "execution_count": 10,
      "outputs": [
        {
          "output_type": "stream",
          "name": "stdout",
          "text": [
            "\n",
            "Réservations par nationalité :\n",
            "GuestNationality\n",
            "France     2\n",
            "USA        1\n",
            "Morocco    1\n",
            "Senegal    1\n",
            "UK         1\n",
            "Germany    1\n",
            "Spain      1\n",
            "Italy      1\n",
            "Canada     1\n",
            "Name: count, dtype: int64\n"
          ]
        }
      ]
    },
    {
      "cell_type": "code",
      "source": [
        "# Revenus par nationalité\n",
        "revenue_by_nationality = data.groupby('GuestNationality')['TotalPrice'].sum()\n",
        "print(\"\\nRevenus par nationalité :\")\n",
        "print(revenue_by_nationality)"
      ],
      "metadata": {
        "colab": {
          "base_uri": "https://localhost:8080/"
        },
        "id": "P8NVlR8CLm2F",
        "outputId": "62a2ea5b-41fb-4271-c9ae-b90dda07642a"
      },
      "execution_count": 11,
      "outputs": [
        {
          "output_type": "stream",
          "name": "stdout",
          "text": [
            "\n",
            "Revenus par nationalité :\n",
            "GuestNationality\n",
            "Canada      420\n",
            "France     1580\n",
            "Germany    1600\n",
            "Italy      1700\n",
            "Morocco    1500\n",
            "Senegal     850\n",
            "Spain       380\n",
            "UK          200\n",
            "USA         400\n",
            "Name: TotalPrice, dtype: int64\n"
          ]
        }
      ]
    },
    {
      "cell_type": "code",
      "source": [
        "# Ajouter une colonne pour le mois de l'enregistrement\n",
        "data['CheckInMonth'] = pd.to_datetime(data['CheckInDate']).dt.to_period('M')\n"
      ],
      "metadata": {
        "id": "fyAMmZfRLsCn"
      },
      "execution_count": 12,
      "outputs": []
    },
    {
      "cell_type": "code",
      "source": [
        "# Nombre de réservations par mois\n",
        "reservations_by_month = data['CheckInMonth'].value_counts().sort_index()\n",
        "print(\"\\nRéservations par mois :\")\n",
        "print(reservations_by_month)\n"
      ],
      "metadata": {
        "colab": {
          "base_uri": "https://localhost:8080/"
        },
        "id": "VwMi0S4gL6Bn",
        "outputId": "b7f53eff-4272-4b0c-ec75-c50c73305ae5"
      },
      "execution_count": 13,
      "outputs": [
        {
          "output_type": "stream",
          "name": "stdout",
          "text": [
            "\n",
            "Réservations par mois :\n",
            "CheckInMonth\n",
            "2023-07    10\n",
            "Freq: M, Name: count, dtype: int64\n"
          ]
        }
      ]
    },
    {
      "cell_type": "code",
      "source": [
        "# Revenus par mois\n",
        "revenue_by_month = data.groupby('CheckInMonth')['TotalPrice'].sum()\n",
        "print(\"\\nRevenus par mois :\")\n",
        "print(revenue_by_month)"
      ],
      "metadata": {
        "colab": {
          "base_uri": "https://localhost:8080/"
        },
        "id": "8AOdifEJL_LO",
        "outputId": "0b60eb29-5eba-4c30-b734-9a28f29d4294"
      },
      "execution_count": 14,
      "outputs": [
        {
          "output_type": "stream",
          "name": "stdout",
          "text": [
            "\n",
            "Revenus par mois :\n",
            "CheckInMonth\n",
            "2023-07    8630\n",
            "Freq: M, Name: TotalPrice, dtype: int64\n"
          ]
        }
      ]
    },
    {
      "cell_type": "code",
      "source": [
        "# Calculer la durée des séjours\n",
        "data['StayDuration'] = (pd.to_datetime(data['CheckOutDate']) - pd.to_datetime(data['CheckInDate'])).dt.days"
      ],
      "metadata": {
        "id": "M3CVwrGGMFeW"
      },
      "execution_count": 16,
      "outputs": []
    },
    {
      "cell_type": "code",
      "source": [
        "# Durée moyenne des séjours\n",
        "mean_stay_duration = data['StayDuration'].mean()\n",
        "print(f\"\\nDurée moyenne des séjours : {mean_stay_duration:.2f} nuits\")"
      ],
      "metadata": {
        "colab": {
          "base_uri": "https://localhost:8080/"
        },
        "id": "qc93oK9mMSBP",
        "outputId": "18471dc5-99f3-4cac-9a3a-6ba963c915cc"
      },
      "execution_count": 17,
      "outputs": [
        {
          "output_type": "stream",
          "name": "stdout",
          "text": [
            "\n",
            "Durée moyenne des séjours : 2.50 nuits\n"
          ]
        }
      ]
    },
    {
      "cell_type": "code",
      "source": [
        "# Revenus par durée de séjour\n",
        "revenue_by_stay_duration = data.groupby('StayDuration')['TotalPrice'].sum()\n",
        "print(\"\\nRevenus par durée de séjour :\")\n",
        "print(revenue_by_stay_duration)"
      ],
      "metadata": {
        "colab": {
          "base_uri": "https://localhost:8080/"
        },
        "id": "Sb8NYutIMcGG",
        "outputId": "0a77f5a8-ef61-4dda-f30f-4ff342c8b25b"
      },
      "execution_count": 18,
      "outputs": [
        {
          "output_type": "stream",
          "name": "stdout",
          "text": [
            "\n",
            "Revenus par durée de séjour :\n",
            "StayDuration\n",
            "1     200\n",
            "2    4500\n",
            "3    2280\n",
            "4    1650\n",
            "Name: TotalPrice, dtype: int64\n"
          ]
        }
      ]
    },
    {
      "cell_type": "code",
      "source": [],
      "metadata": {
        "id": "mBaSOZd0MhDX"
      },
      "execution_count": null,
      "outputs": []
    },
    {
      "cell_type": "markdown",
      "source": [
        "# Interprétation des Résultats\n",
        "\n",
        "## 1. Réservations par Type de Chambre\n",
        "\n",
        "- **Nombre de Réservations** : Les types de chambres les plus réservés peuvent indiquer une préférence des clients. Si certaines chambres sont moins réservées, envisagez de les promouvoir davantage ou d'ajuster leur tarification.\n",
        "- **Revenus par Type de Chambre** : Les chambres avec des revenus plus élevés sont probablement plus rentables. Vous pouvez ajuster les prix des chambres moins rentables ou offrir des promotions pour les encourager.\n",
        "\n",
        "## 2. Réservations par Nationalité\n",
        "\n",
        "- **Nombre de Réservations par Nationalité** : Cibler les campagnes de marketing vers les nationalités générant le plus de réservations peut être bénéfique. Pour les nationalités sous-représentées, développez des stratégies pour les attirer.\n",
        "- **Revenus par Nationalité** : Identifiez les marchés clés et renforcez votre présence dans ces régions. Pour les marchés sous-représentés, explorez des promotions ciblées.\n",
        "\n",
        "## 3. Réservations par Mois\n",
        "\n",
        "- **Nombre de Réservations par Mois** : Les périodes de haute et basse demande peuvent être identifiées. Ajustez les stratégies de tarification et de promotion en conséquence.\n",
        "- **Revenus par Mois** : Optimisez les tarifs pendant les périodes de haute demande et offrez des promotions pendant les périodes creuses.\n",
        "\n",
        "## 4. Durée des Séjours\n",
        "\n",
        "- **Durée Moyenne des Séjours** : Encouragez les séjours plus longs en offrant des réductions ou des avantages pour les séjours prolongés.\n",
        "- **Revenus par Durée de Séjour** : Ajustez les tarifs pour maximiser les revenus en fonction de la durée du séjour.\n",
        "\n",
        "## Résumé des Actions\n",
        "\n",
        "- **Tarification Dynamique** : Ajustez les prix en fonction de la demande et du type de chambre.\n",
        "- **Campagnes Marketing** : Cibler les nationalités les plus rentables et explorer les marchés sous-représentés.\n",
        "- **Promotions Saisonnières** : Offrir des promotions pendant les périodes creuses.\n",
        "- **Encourager les Séjours Longs** : Offrir des réductions pour les séjours prolongés.\n",
        "\n",
        "Ces analyses permettent de mieux comprendre les tendances de réservation et d'identifier des opportunités pour augmenter les revenus.\n"
      ],
      "metadata": {
        "id": "NarH1EhbNPY5"
      }
    },
    {
      "cell_type": "code",
      "source": [],
      "metadata": {
        "id": "-osK9s9FNYW_"
      },
      "execution_count": null,
      "outputs": []
    }
  ]
}